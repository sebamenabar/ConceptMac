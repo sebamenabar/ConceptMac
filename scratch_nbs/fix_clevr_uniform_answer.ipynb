{
 "cells": [
  {
   "cell_type": "code",
   "execution_count": 1,
   "metadata": {},
   "outputs": [],
   "source": [
    "%load_ext autoreload\n",
    "%autoreload 2"
   ]
  },
  {
   "cell_type": "code",
   "execution_count": 2,
   "metadata": {},
   "outputs": [],
   "source": [
    "import os\n",
    "import sys"
   ]
  },
  {
   "cell_type": "code",
   "execution_count": 3,
   "metadata": {},
   "outputs": [
    {
     "name": "stderr",
     "output_type": "stream",
     "text": [
      "/home/samenabar/.venvs/grievous/lib/python3.6/site-packages/tqdm/autonotebook.py:17: TqdmExperimentalWarning: Using `tqdm.autonotebook.tqdm` in notebook mode. Use `tqdm.tqdm` instead to force console mode (e.g. in jupyter console)\n",
      "  \" (e.g. in jupyter console)\", TqdmExperimentalWarning)\n"
     ]
    }
   ],
   "source": [
    "import json\n",
    "import pickle\n",
    "\n",
    "import nltk\n",
    "from tqdm.autonotebook import tqdm\n",
    "from PIL import Image"
   ]
  },
  {
   "cell_type": "markdown",
   "metadata": {},
   "source": [
    "## Val"
   ]
  },
  {
   "cell_type": "code",
   "execution_count": 6,
   "metadata": {},
   "outputs": [],
   "source": [
    "with open(os.path.join('/storage1/datasets/CLEVR_Uni_v1.0/', 'questions', f'CLEVR_uni_val_questions.json'), 'r') as f:\n",
    "    val_questions = json.load(f)"
   ]
  },
  {
   "cell_type": "code",
   "execution_count": 7,
   "metadata": {},
   "outputs": [
    {
     "data": {
      "application/vnd.jupyter.widget-view+json": {
       "model_id": "aac64b0d1723459aa8a27d6335510043",
       "version_major": 2,
       "version_minor": 0
      },
      "text/plain": [
       "HBox(children=(IntProgress(value=0, max=100000), HTML(value='')))"
      ]
     },
     "metadata": {},
     "output_type": "display_data"
    },
    {
     "name": "stdout",
     "output_type": "stream",
     "text": [
      "\n"
     ]
    }
   ],
   "source": [
    "for q in tqdm(val_questions['questions']):\n",
    "    answer = q['answer']\n",
    "    \n",
    "    if answer is True:\n",
    "        q['answer'] = 'yes'\n",
    "    elif answer is False:\n",
    "        q['answer'] = 'no'\n",
    "    else:\n",
    "        q['answer'] = str(answer)"
   ]
  },
  {
   "cell_type": "code",
   "execution_count": 10,
   "metadata": {},
   "outputs": [],
   "source": [
    "with open(os.path.join('/storage1/datasets/CLEVR_Uni_v1.0/', 'questions', f'CLEVR_uni_val_questions.json'), 'w') as f:\n",
    "    json.dump(val_questions, f)"
   ]
  },
  {
   "cell_type": "markdown",
   "metadata": {},
   "source": [
    "## Train"
   ]
  },
  {
   "cell_type": "code",
   "execution_count": 11,
   "metadata": {},
   "outputs": [],
   "source": [
    "with open(os.path.join('/storage1/datasets/CLEVR_Uni_v1.0/', 'questions', f'CLEVR_uni_train_questions.json'), 'r') as f:\n",
    "    train_questions = json.load(f)"
   ]
  },
  {
   "cell_type": "code",
   "execution_count": 12,
   "metadata": {},
   "outputs": [
    {
     "data": {
      "application/vnd.jupyter.widget-view+json": {
       "model_id": "71ae2c29550a4c63a06475e4a0400a49",
       "version_major": 2,
       "version_minor": 0
      },
      "text/plain": [
       "HBox(children=(IntProgress(value=0, max=699998), HTML(value='')))"
      ]
     },
     "metadata": {},
     "output_type": "display_data"
    },
    {
     "name": "stdout",
     "output_type": "stream",
     "text": [
      "\n"
     ]
    }
   ],
   "source": [
    "for q in tqdm(train_questions['questions']):\n",
    "    answer = q['answer']\n",
    "    \n",
    "    if answer is True:\n",
    "        q['answer'] = 'yes'\n",
    "    elif answer is False:\n",
    "        q['answer'] = 'no'\n",
    "    else:\n",
    "        q['answer'] = str(answer)"
   ]
  },
  {
   "cell_type": "code",
   "execution_count": 13,
   "metadata": {},
   "outputs": [],
   "source": [
    "with open(os.path.join('/storage1/datasets/CLEVR_Uni_v1.0/', 'questions', f'CLEVR_uni_train_questions.json'), 'w') as f:\n",
    "    json.dump(train_questions, f)"
   ]
  },
  {
   "cell_type": "markdown",
   "metadata": {},
   "source": [
    "## Process"
   ]
  },
  {
   "cell_type": "code",
   "execution_count": 9,
   "metadata": {},
   "outputs": [],
   "source": [
    "def process_question(root, split, word_dic=None, answer_dic=None):\n",
    "    if word_dic is None:\n",
    "        word_dic = {}\n",
    "\n",
    "    if answer_dic is None:\n",
    "        answer_dic = {}\n",
    "\n",
    "    with open(os.path.join(root, 'questions', 'CLEVR_{}_questions.json'.format(split))) as f:\n",
    "        data = json.load(f)\n",
    "\n",
    "    result = []\n",
    "    word_index = 1\n",
    "    answer_index = 0\n",
    "\n",
    "    for question in tqdm(data['questions']):\n",
    "        words = nltk.word_tokenize(question['question'])\n",
    "        question_token = []\n",
    "\n",
    "        for word in words:\n",
    "            try:\n",
    "                question_token.append(word_dic[word])\n",
    "\n",
    "            except:\n",
    "                question_token.append(word_index)\n",
    "                word_dic[word] = word_index\n",
    "                word_index += 1\n",
    "                \n",
    "                print('New word', word)\n",
    "\n",
    "        answer_word = question['answer']\n",
    "\n",
    "        try:\n",
    "            answer = answer_dic[answer_word]\n",
    "\n",
    "        except:\n",
    "            answer = answer_index\n",
    "            answer_dic[answer_word] = answer_index\n",
    "            answer_index += 1\n",
    "            \n",
    "            print('New answer', answer_word)\n",
    "\n",
    "        result.append((question['image_filename'], question_token, answer, question['question_family_index']))\n",
    "\n",
    "    with open(os.path.join(root, 'data/{}.pkl'.format(split)), 'wb') as f:\n",
    "        pickle.dump(result, f)\n",
    "\n",
    "    return word_dic, answer_dic"
   ]
  },
  {
   "cell_type": "code",
   "execution_count": 10,
   "metadata": {},
   "outputs": [],
   "source": [
    "root = '/storage1/datasets/CLEVR_Uni_v1.0/'\n",
    "# Use same dictionaries as CLEVR_v1.0\n",
    "with open(os.path.join(root, 'data', 'dic.pkl'), 'rb') as f:\n",
    "    dictionaries = pickle.load(f)  \n",
    "word_dic, answer_dic = dictionaries['word_dic'], dictionaries['answer_dic']"
   ]
  },
  {
   "cell_type": "code",
   "execution_count": 11,
   "metadata": {},
   "outputs": [
    {
     "name": "stdout",
     "output_type": "stream",
     "text": [
      "{'large': 4, 'green': 16, 'metal': 17, 'cube': 8, 'red': 22, '9': 26, 'gray': 7, '4': 19, '1': 11, '7': 25, 'small': 15, 'brown': 10, '6': 21, 'yellow': 12, 'no': 2, '10': 27, '8': 24, '5': 23, '0': 5, '2': 1, 'sphere': 6, 'purple': 13, 'cyan': 20, 'yes': 0, 'rubber': 3, 'cylinder': 14, '3': 18, 'blue': 9}\n",
      "28\n"
     ]
    },
    {
     "data": {
      "text/plain": [
       "(None, None)"
      ]
     },
     "execution_count": 11,
     "metadata": {},
     "output_type": "execute_result"
    }
   ],
   "source": [
    "print(answer_dic), print(len(answer_dic))"
   ]
  },
  {
   "cell_type": "code",
   "execution_count": 13,
   "metadata": {},
   "outputs": [
    {
     "data": {
      "application/vnd.jupyter.widget-view+json": {
       "model_id": "552b86702cd94cc2a5b9288a7df0a9cb",
       "version_major": 2,
       "version_minor": 0
      },
      "text/plain": [
       "HBox(children=(IntProgress(value=0, max=699998), HTML(value='')))"
      ]
     },
     "metadata": {},
     "output_type": "display_data"
    },
    {
     "name": "stdout",
     "output_type": "stream",
     "text": [
      "\n"
     ]
    }
   ],
   "source": [
    "process_question(root, 'uni_train', word_dic, answer_dic);"
   ]
  },
  {
   "cell_type": "code",
   "execution_count": 12,
   "metadata": {},
   "outputs": [
    {
     "data": {
      "application/vnd.jupyter.widget-view+json": {
       "model_id": "907bcd3048584059b5bec83314eae63c",
       "version_major": 2,
       "version_minor": 0
      },
      "text/plain": [
       "HBox(children=(IntProgress(value=0, max=100000), HTML(value='')))"
      ]
     },
     "metadata": {},
     "output_type": "display_data"
    },
    {
     "name": "stdout",
     "output_type": "stream",
     "text": [
      "\n"
     ]
    }
   ],
   "source": [
    "process_question(root, 'uni_val', word_dic, answer_dic);"
   ]
  },
  {
   "cell_type": "markdown",
   "metadata": {},
   "source": [
    "# Checks question files"
   ]
  },
  {
   "cell_type": "code",
   "execution_count": 23,
   "metadata": {},
   "outputs": [],
   "source": [
    "with open(os.path.join(root, 'data/dic.pkl'), 'wb') as f:\n",
    "    pickle.dump({'word_dic': word_dic, 'answer_dic': answer_dic}, f)"
   ]
  },
  {
   "cell_type": "code",
   "execution_count": 24,
   "metadata": {},
   "outputs": [
    {
     "data": {
      "text/plain": [
       "{'1': 0,\n",
       " 'no': 1,\n",
       " 'cube': 2,\n",
       " 'rubber': 3,\n",
       " 'gray': 4,\n",
       " 'large': 5,\n",
       " '0': 6,\n",
       " 'small': 7,\n",
       " 'yellow': 8,\n",
       " 'cylinder': 9,\n",
       " 'green': 10,\n",
       " 'brown': 11,\n",
       " 'metal': 12,\n",
       " 'sphere': 13,\n",
       " 'yes': 14,\n",
       " '2': 15,\n",
       " '3': 16,\n",
       " 'red': 17,\n",
       " 'blue': 18,\n",
       " 'cyan': 19,\n",
       " 'purple': 20,\n",
       " '4': 21,\n",
       " '5': 22,\n",
       " '6': 23,\n",
       " '7': 24,\n",
       " '8': 25,\n",
       " '9': 26,\n",
       " '10': 27}"
      ]
     },
     "execution_count": 24,
     "metadata": {},
     "output_type": "execute_result"
    }
   ],
   "source": [
    "answer_dic"
   ]
  },
  {
   "cell_type": "code",
   "execution_count": 25,
   "metadata": {},
   "outputs": [],
   "source": [
    "with open(os.path.join('/storage1/datasets/CLEVR_Uni_v1.0/', 'questions', f'CLEVR_uni_train_questions.json'), 'r') as f:\n",
    "    train_questions = json.load(f)"
   ]
  },
  {
   "cell_type": "code",
   "execution_count": 26,
   "metadata": {},
   "outputs": [
    {
     "data": {
      "text/plain": [
       "{'0',\n",
       " '1',\n",
       " '10',\n",
       " '2',\n",
       " '3',\n",
       " '4',\n",
       " '5',\n",
       " '6',\n",
       " '7',\n",
       " '8',\n",
       " '9',\n",
       " 'blue',\n",
       " 'brown',\n",
       " 'cube',\n",
       " 'cyan',\n",
       " 'cylinder',\n",
       " 'gray',\n",
       " 'green',\n",
       " 'large',\n",
       " 'metal',\n",
       " 'no',\n",
       " 'purple',\n",
       " 'red',\n",
       " 'rubber',\n",
       " 'small',\n",
       " 'sphere',\n",
       " 'yellow',\n",
       " 'yes'}"
      ]
     },
     "execution_count": 26,
     "metadata": {},
     "output_type": "execute_result"
    }
   ],
   "source": [
    "set([q['answer'] for q in train_questions['questions']])"
   ]
  },
  {
   "cell_type": "code",
   "execution_count": 27,
   "metadata": {},
   "outputs": [],
   "source": [
    "with open(os.path.join('/storage1/datasets/CLEVR_Uni_v1.0/', 'questions', f'CLEVR_uni_val_questions.json'), 'r') as f:\n",
    "    val_questions = json.load(f)"
   ]
  },
  {
   "cell_type": "code",
   "execution_count": 28,
   "metadata": {},
   "outputs": [
    {
     "data": {
      "text/plain": [
       "{'0',\n",
       " '1',\n",
       " '10',\n",
       " '2',\n",
       " '3',\n",
       " '4',\n",
       " '5',\n",
       " '6',\n",
       " '7',\n",
       " '8',\n",
       " '9',\n",
       " 'blue',\n",
       " 'brown',\n",
       " 'cube',\n",
       " 'cyan',\n",
       " 'cylinder',\n",
       " 'gray',\n",
       " 'green',\n",
       " 'large',\n",
       " 'metal',\n",
       " 'no',\n",
       " 'purple',\n",
       " 'red',\n",
       " 'rubber',\n",
       " 'small',\n",
       " 'sphere',\n",
       " 'yellow',\n",
       " 'yes'}"
      ]
     },
     "execution_count": 28,
     "metadata": {},
     "output_type": "execute_result"
    }
   ],
   "source": [
    "set([q['answer'] for q in val_questions['questions']])"
   ]
  },
  {
   "cell_type": "code",
   "execution_count": null,
   "metadata": {},
   "outputs": [],
   "source": []
  }
 ],
 "metadata": {
  "kernelspec": {
   "display_name": "grievous",
   "language": "python",
   "name": "grievous"
  },
  "language_info": {
   "codemirror_mode": {
    "name": "ipython",
    "version": 3
   },
   "file_extension": ".py",
   "mimetype": "text/x-python",
   "name": "python",
   "nbconvert_exporter": "python",
   "pygments_lexer": "ipython3",
   "version": "3.6.8"
  },
  "toc": {
   "base_numbering": 1,
   "nav_menu": {},
   "number_sections": true,
   "sideBar": true,
   "skip_h1_title": false,
   "title_cell": "Table of Contents",
   "title_sidebar": "Contents",
   "toc_cell": false,
   "toc_position": {},
   "toc_section_display": true,
   "toc_window_display": false
  }
 },
 "nbformat": 4,
 "nbformat_minor": 2
}
