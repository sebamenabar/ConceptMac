{
 "cells": [
  {
   "cell_type": "code",
   "execution_count": 1,
   "metadata": {
    "ExecuteTime": {
     "end_time": "2019-08-23T15:11:04.712374Z",
     "start_time": "2019-08-23T15:11:04.684427Z"
    }
   },
   "outputs": [],
   "source": [
    "%load_ext autoreload\n",
    "%autoreload 2"
   ]
  },
  {
   "cell_type": "code",
   "execution_count": 2,
   "metadata": {
    "ExecuteTime": {
     "end_time": "2019-08-23T15:11:05.402142Z",
     "start_time": "2019-08-23T15:11:05.382877Z"
    }
   },
   "outputs": [],
   "source": [
    "import sys\n",
    "import os"
   ]
  },
  {
   "cell_type": "code",
   "execution_count": 3,
   "metadata": {
    "ExecuteTime": {
     "end_time": "2019-08-23T15:11:05.922752Z",
     "start_time": "2019-08-23T15:11:05.903090Z"
    }
   },
   "outputs": [],
   "source": [
    "sys.path.insert(0, 'code/')"
   ]
  },
  {
   "cell_type": "code",
   "execution_count": 4,
   "metadata": {
    "ExecuteTime": {
     "end_time": "2019-08-23T15:11:08.200258Z",
     "start_time": "2019-08-23T15:11:06.927758Z"
    }
   },
   "outputs": [],
   "source": [
    "import h5py\n",
    "import numpy as np\n",
    "\n",
    "import torch\n",
    "from torch import nn\n",
    "from torch.utils.data import DataLoader\n",
    "import torchvision\n",
    "from torchsummaryX import summary\n",
    "\n",
    "from mac import MACNetwork\n",
    "from utils import load_vocab\n",
    "from datasets import ClevrDataset, collate_fn"
   ]
  },
  {
   "cell_type": "code",
   "execution_count": 5,
   "metadata": {
    "ExecuteTime": {
     "end_time": "2019-08-23T15:11:08.288573Z",
     "start_time": "2019-08-23T15:11:08.204112Z"
    }
   },
   "outputs": [
    {
     "name": "stderr",
     "output_type": "stream",
     "text": [
      "code/config.py:83: YAMLLoadWarning: calling yaml.load() without Loader=... is deprecated, as the default Loader is unsafe. Please read https://msg.pyyaml.org/load for full details.\n",
      "  yaml_cfg = edict(yaml.load(f))\n"
     ]
    }
   ],
   "source": [
    "from config import cfg_from_file, __C, cfg\n",
    "\n",
    "cfg_from_file('cfg/local.yml')\n",
    "__C.CUDA = False\n",
    "__C.GPU_ID = '-1'\n",
    "vocab = load_vocab(cfg)\n",
    "# cfg.TRAIN.RECV_OBJECTS = False"
   ]
  },
  {
   "cell_type": "code",
   "execution_count": 6,
   "metadata": {
    "ExecuteTime": {
     "end_time": "2019-08-23T15:11:10.498923Z",
     "start_time": "2019-08-23T15:11:10.062334Z"
    }
   },
   "outputs": [
    {
     "data": {
      "text/plain": [
       "<All keys matched successfully>"
      ]
     },
     "execution_count": 6,
     "metadata": {},
     "output_type": "execute_result"
    }
   ],
   "source": [
    "model = MACNetwork(cfg=cfg, max_step=4, vocab=vocab)\n",
    "model.load_state_dict(torch.load('/Users/sebamenabar/Documents/vanilla_mac.pth', map_location='cpu')['model'])\n",
    "# model(b['image'], b['question'], b['question_length'])"
   ]
  },
  {
   "cell_type": "code",
   "execution_count": 7,
   "metadata": {
    "ExecuteTime": {
     "end_time": "2019-08-23T15:11:15.610466Z",
     "start_time": "2019-08-23T15:11:15.552072Z"
    }
   },
   "outputs": [],
   "source": [
    "dataset = h5py.File('/Users/sebamenabar/Documents/datasets/CLEVR/data/train_features.h5', 'r')['features']"
   ]
  },
  {
   "cell_type": "code",
   "execution_count": 8,
   "metadata": {
    "ExecuteTime": {
     "end_time": "2019-08-23T15:11:45.734413Z",
     "start_time": "2019-08-23T15:11:29.592868Z"
    }
   },
   "outputs": [],
   "source": [
    "total_size = 200\n",
    "train_size = 100\n",
    "model.eval()\n",
    "with torch.no_grad():\n",
    "    X = model.input_unit.stem(torch.from_numpy(dataset[:total_size]))"
   ]
  },
  {
   "cell_type": "code",
   "execution_count": 9,
   "metadata": {},
   "outputs": [
    {
     "name": "stdout",
     "output_type": "stream",
     "text": [
      "train (19600, 512) (19600, 196)\n",
      "test (19600, 512) (19600, 196)\n"
     ]
    }
   ],
   "source": [
    "e = np.eye(196)\n",
    "\n",
    "X_train = X[:train_size].numpy().reshape(train_size * 196, 512)\n",
    "y_train = np.tile(e, train_size).T\n",
    "\n",
    "test_size = total_size - train_size\n",
    "X_test = X[train_size:].numpy().reshape(test_size * 196, 512)\n",
    "y_test = np.tile(e, test_size).T\n",
    "\n",
    "print('train', X_train.shape, y_train.shape)\n",
    "print('test', X_test.shape, y_test.shape)\n",
    "\n",
    "# y_train = np.where(y_train)[1]\n",
    "# y_test = np.where(y_test)[1]"
   ]
  },
  {
   "cell_type": "code",
   "execution_count": 10,
   "metadata": {},
   "outputs": [
    {
     "name": "stderr",
     "output_type": "stream",
     "text": [
      "Using TensorFlow backend.\n"
     ]
    }
   ],
   "source": [
    "import keras\n",
    "from keras.models import Sequential\n",
    "from keras.layers import Dense"
   ]
  },
  {
   "cell_type": "code",
   "execution_count": 54,
   "metadata": {},
   "outputs": [],
   "source": [
    "kmodel = Sequential()\n",
    "# kmodel.add(Dense(256, input_dim=512, activation='relu'))\n",
    "# kmodel.add(Dense(256, input_dim=256, activation='relu'))\n",
    "kmodel.add(Dense(196, input_dim=512, activation='softmax',\n",
    "                 use_bias=False,\n",
    "                  kernel_regularizer=keras.regularizers.l1_l2(l1=0.0001, l2=0.0001),\n",
    "                  bias_regularizer=keras.regularizers.l1_l2(l1=0.0001, l2=0.0001),\n",
    "                 ))\n",
    "kmodel.compile(\n",
    "    loss='categorical_crossentropy',\n",
    "    optimizer=keras.optimizers.Adam(lr=0.001, decay=1e-6),\n",
    "    metrics=['accuracy'],\n",
    ")"
   ]
  },
  {
   "cell_type": "code",
   "execution_count": 55,
   "metadata": {},
   "outputs": [
    {
     "name": "stdout",
     "output_type": "stream",
     "text": [
      "Train on 19600 samples, validate on 19600 samples\n",
      "Epoch 1/10\n",
      "19600/19600 [==============================] - 2s 119us/step - loss: 1.5667 - acc: 0.8235 - val_loss: 0.5049 - val_acc: 0.9945\n",
      "Epoch 2/10\n",
      "19600/19600 [==============================] - 2s 78us/step - loss: 0.4589 - acc: 0.9993 - val_loss: 0.4398 - val_acc: 0.9986\n",
      "Epoch 3/10\n",
      "19600/19600 [==============================] - 2s 81us/step - loss: 0.4004 - acc: 0.9999 - val_loss: 0.3792 - val_acc: 0.9993\n",
      "Epoch 4/10\n",
      "19600/19600 [==============================] - 2s 81us/step - loss: 0.3406 - acc: 1.0000 - val_loss: 0.3176 - val_acc: 0.9994\n",
      "Epoch 5/10\n",
      "19600/19600 [==============================] - 2s 86us/step - loss: 0.2812 - acc: 1.0000 - val_loss: 0.2599 - val_acc: 0.9998\n",
      "Epoch 6/10\n",
      "19600/19600 [==============================] - 2s 79us/step - loss: 0.2277 - acc: 1.0000 - val_loss: 0.2104 - val_acc: 0.9998\n",
      "Epoch 7/10\n",
      "19600/19600 [==============================] - 2s 82us/step - loss: 0.1832 - acc: 1.0000 - val_loss: 0.1704 - val_acc: 0.9999\n",
      "Epoch 8/10\n",
      "19600/19600 [==============================] - 2s 80us/step - loss: 0.1480 - acc: 1.0000 - val_loss: 0.1391 - val_acc: 0.9999\n",
      "Epoch 9/10\n",
      "19600/19600 [==============================] - 2s 81us/step - loss: 0.1215 - acc: 1.0000 - val_loss: 0.1160 - val_acc: 0.9999\n",
      "Epoch 10/10\n",
      "19600/19600 [==============================] - 2s 79us/step - loss: 0.1028 - acc: 1.0000 - val_loss: 0.1001 - val_acc: 0.9999\n"
     ]
    },
    {
     "data": {
      "text/plain": [
       "<keras.callbacks.History at 0x15fad1c90>"
      ]
     },
     "execution_count": 55,
     "metadata": {},
     "output_type": "execute_result"
    }
   ],
   "source": [
    "kmodel.fit(X_train, y_train, epochs=10, batch_size=100, shuffle=True, validation_data=(X_test, y_test))"
   ]
  },
  {
   "cell_type": "code",
   "execution_count": 56,
   "metadata": {},
   "outputs": [
    {
     "data": {
      "text/plain": [
       "[array([[ 2.2358629e-03, -1.4154413e-02, -9.0380563e-05, ...,\n",
       "         -8.4808422e-03,  7.2930530e-03, -2.9074756e-04],\n",
       "        [-4.2515923e-04, -1.4523097e-03,  2.0638179e-05, ...,\n",
       "         -6.3934707e-04, -1.8544253e-03, -8.4042287e-05],\n",
       "        [-1.2840978e-05, -2.6644695e-05,  4.0164043e-05, ...,\n",
       "         -2.3540099e-04, -2.0521661e-02,  5.0598662e-02],\n",
       "        ...,\n",
       "        [ 4.0479682e-02, -1.1271374e-02,  9.7249049e-06, ...,\n",
       "          1.6816927e-03, -3.1261958e-02, -5.1750692e-05],\n",
       "        [-4.0984727e-03, -3.6190096e-03, -2.2749231e-05, ...,\n",
       "         -9.9391065e-05,  3.3799175e-04, -1.2946275e-02],\n",
       "        [ 4.4808030e-04, -1.2940196e-04,  1.9662242e-05, ...,\n",
       "          2.8878288e-02,  1.5310259e-03, -3.6968591e-03]], dtype=float32)]"
      ]
     },
     "execution_count": 56,
     "metadata": {},
     "output_type": "execute_result"
    }
   ],
   "source": [
    "weights1 = kmodel.get_weights()\n",
    "weights1"
   ]
  },
  {
   "cell_type": "code",
   "execution_count": 15,
   "metadata": {},
   "outputs": [
    {
     "name": "stdout",
     "output_type": "stream",
     "text": [
      "train (19600, 1024) (19600, 196)\n",
      "test (19600, 1024) (19600, 196)\n"
     ]
    }
   ],
   "source": [
    "e = np.eye(196)\n",
    "\n",
    "train_size = 100\n",
    "X2_train = dataset[:train_size].reshape(train_size * 196, 1024)\n",
    "y2_train = np.tile(e, train_size).T\n",
    "\n",
    "test_size = 100\n",
    "X2_test = dataset[train_size:train_size + test_size].reshape(test_size * 196, 1024)\n",
    "y2_test = np.tile(e, test_size).T\n",
    "\n",
    "print('train', X2_train.shape, y2_train.shape)\n",
    "print('test', X2_test.shape, y2_test.shape)"
   ]
  },
  {
   "cell_type": "code",
   "execution_count": 16,
   "metadata": {},
   "outputs": [],
   "source": [
    "k2model = Sequential()\n",
    "# k2model.add(Dense(256, input_dim=1024, activation='relu'))\n",
    "# kmodel.add(Dense(256, input_dim=256, activation='relu'))\n",
    "k2model.add(Dense(196, input_dim=1024, activation='softmax',\n",
    "                  kernel_regularizer=keras.regularizers.l1_l2(l1=0.0001, l2=0.0001),\n",
    "                  bias_regularizer=keras.regularizers.l1_l2(l1=0.0001, l2=0.0001),\n",
    "                 ))\n",
    "k2model.compile(loss='categorical_crossentropy', optimizer='adam', metrics=['accuracy'])"
   ]
  },
  {
   "cell_type": "code",
   "execution_count": 17,
   "metadata": {},
   "outputs": [
    {
     "name": "stdout",
     "output_type": "stream",
     "text": [
      "Train on 19600 samples, validate on 19600 samples\n",
      "Epoch 1/2\n",
      "19600/19600 [==============================] - 3s 141us/step - loss: 3.6136 - acc: 0.8278 - val_loss: 2.5989 - val_acc: 0.9984\n",
      "Epoch 2/2\n",
      "19600/19600 [==============================] - 2s 125us/step - loss: 2.2738 - acc: 0.9996 - val_loss: 2.0868 - val_acc: 0.9997\n"
     ]
    },
    {
     "data": {
      "text/plain": [
       "<keras.callbacks.History at 0x12aee11d0>"
      ]
     },
     "execution_count": 17,
     "metadata": {},
     "output_type": "execute_result"
    }
   ],
   "source": [
    "k2model.fit(X2_train, y2_train, epochs=2, batch_size=100, shuffle=True, validation_data=(X2_test, y2_test))"
   ]
  },
  {
   "cell_type": "code",
   "execution_count": 18,
   "metadata": {},
   "outputs": [],
   "source": [
    "weights = k2model.get_weights()"
   ]
  },
  {
   "cell_type": "code",
   "execution_count": 19,
   "metadata": {},
   "outputs": [
    {
     "data": {
      "text/plain": [
       "[array([[-1.2631699e-01,  7.0139565e-02, -5.3971546e-04, ...,\n",
       "          3.2462232e-02,  3.0657114e-03,  5.8356319e-02],\n",
       "        [-1.7055456e-01, -1.5830781e-03, -1.9613721e-03, ...,\n",
       "          4.0400486e-02, -1.1706071e-03,  6.7951560e-02],\n",
       "        [-1.1000342e-01, -2.1936090e-03,  4.8164674e-04, ...,\n",
       "          2.7934385e-02,  1.5969898e-03,  4.2893395e-02],\n",
       "        ...,\n",
       "        [-3.5136319e-03,  1.0517805e-04, -1.1601908e-03, ...,\n",
       "          7.1837708e-02,  7.2785141e-04, -1.5070821e-01],\n",
       "        [-3.6273822e-02, -2.4802044e-02, -1.1450350e-02, ...,\n",
       "          1.6930515e-02, -9.8239724e-03, -1.5758118e-01],\n",
       "        [ 1.6387844e-02, -5.7152208e-02, -8.5496224e-02, ...,\n",
       "          1.0043573e-02,  6.2840365e-02, -1.1441434e-01]], dtype=float32),\n",
       " array([-1.16822369e-01,  1.58842281e-02,  6.49235919e-02,  1.05016485e-01,\n",
       "        -1.41443357e-01, -1.27707124e-01, -2.51767598e-02, -3.57584730e-02,\n",
       "         1.10784024e-01, -6.19348176e-02, -9.79764313e-02, -1.34518534e-01,\n",
       "         6.23929612e-02, -1.29414842e-01, -7.67663540e-03,  5.75120412e-02,\n",
       "        -7.36812435e-05,  8.65121335e-02,  6.88777119e-02,  4.10049334e-02,\n",
       "         5.43837585e-02, -1.70869544e-01, -7.56382989e-03,  5.78602403e-02,\n",
       "        -9.87263322e-02,  8.44597593e-02,  8.12811553e-02,  4.00630385e-02,\n",
       "         9.33309495e-02,  5.29001094e-02, -1.40397787e-01, -1.31955724e-02,\n",
       "        -1.82768628e-02, -1.51072186e-03,  1.14853326e-02,  9.75333853e-04,\n",
       "         8.22790638e-02, -8.78497511e-02,  2.04162691e-02, -3.62109542e-02,\n",
       "        -6.40837699e-02, -1.84319839e-02,  7.34753534e-02, -1.15308873e-01,\n",
       "         8.30639601e-02, -1.32060409e-01,  6.48111403e-02,  3.63507457e-02,\n",
       "         1.58364363e-02, -3.10755912e-02,  8.81421566e-03,  5.57072237e-02,\n",
       "         1.08763382e-01, -4.18688804e-02,  4.50449698e-02,  9.96581614e-02,\n",
       "         1.14830293e-01,  1.90869775e-02,  1.12859517e-01,  4.04214635e-02,\n",
       "        -1.15115531e-01, -1.70316711e-01, -1.52134553e-01,  7.18673542e-02,\n",
       "         8.75902325e-02,  8.98399502e-02,  2.06751516e-03, -8.04945976e-02,\n",
       "         5.11818305e-02,  8.02635029e-02,  1.26854956e-01, -7.53293335e-02,\n",
       "         1.10108666e-02,  4.84816544e-02, -1.04889721e-01, -7.55779669e-02,\n",
       "         4.10304554e-02, -3.89195085e-02,  3.20867375e-02,  2.49501280e-02,\n",
       "         3.42121050e-02, -1.41485855e-01, -1.61856696e-01,  9.25566033e-02,\n",
       "         4.16156203e-02,  4.84245755e-02, -2.38329289e-03, -2.19283309e-02,\n",
       "         7.15023046e-03, -8.16249028e-02, -1.43491715e-01, -3.39236818e-02,\n",
       "         3.97882685e-02, -3.56921693e-03, -1.74313739e-01,  1.03210345e-01,\n",
       "        -4.56434898e-02, -8.95355046e-02, -1.39304221e-01,  4.27395813e-02,\n",
       "        -1.37031649e-03,  9.10530016e-02,  5.31794541e-02, -3.44121307e-02,\n",
       "        -9.83175077e-03, -2.07240731e-02, -1.31094217e-01, -1.70157366e-02,\n",
       "        -4.40336652e-02,  4.31923494e-02, -1.33971855e-01, -1.12138115e-01,\n",
       "        -1.30762190e-01, -7.34434724e-02, -1.87039107e-01, -9.84362140e-03,\n",
       "         8.57463852e-02,  1.16131313e-01,  1.08405463e-01,  1.20736682e-03,\n",
       "         8.73098243e-03,  7.87234455e-02, -3.80747057e-02, -1.56907327e-02,\n",
       "         2.70297211e-02, -1.43398857e-02, -1.32226408e-01,  2.05256734e-02,\n",
       "        -4.24118228e-02,  7.78353512e-02,  3.80682647e-02, -5.85910790e-02,\n",
       "         3.44006009e-02, -1.66559711e-01, -1.57094821e-01, -1.25853375e-01,\n",
       "        -4.66293022e-02,  5.51967733e-02, -8.18246081e-02, -2.22697094e-01,\n",
       "        -3.05219460e-02, -6.43893853e-02, -8.72343406e-02,  8.03086683e-02,\n",
       "        -1.46091226e-02,  4.75441515e-02,  3.17708924e-02, -9.08304751e-02,\n",
       "        -2.02602193e-01,  9.02433917e-02,  5.69573343e-02, -7.78754801e-02,\n",
       "         2.26033684e-02,  8.41419697e-02,  8.54531229e-02, -8.61710459e-02,\n",
       "         3.64284515e-02, -8.90533850e-02, -1.79155311e-03, -9.74492282e-02,\n",
       "         6.85817525e-02, -3.55075449e-02, -6.39129356e-02,  4.04947884e-02,\n",
       "        -8.41484293e-02,  6.51687831e-02,  2.85239387e-02,  5.48858242e-03,\n",
       "        -5.50676556e-03, -1.30358655e-02, -1.30407065e-01, -4.29416681e-03,\n",
       "         1.18333146e-01, -1.75301239e-01,  5.68557195e-02, -9.12092030e-02,\n",
       "         9.52127352e-02,  7.62024224e-02, -1.66677639e-01, -1.01962527e-02,\n",
       "        -5.00248484e-02,  1.20646112e-01, -2.43826453e-02, -4.94277328e-02,\n",
       "         4.31896783e-02, -1.64423231e-02, -1.01973884e-01, -1.18217915e-01,\n",
       "        -6.02845177e-02, -1.32527247e-01, -1.48319975e-01,  7.42654800e-02,\n",
       "        -1.63428411e-02,  6.72654137e-02, -3.87194641e-02, -9.62620892e-04],\n",
       "       dtype=float32)]"
      ]
     },
     "execution_count": 19,
     "metadata": {},
     "output_type": "execute_result"
    }
   ],
   "source": [
    "weights"
   ]
  },
  {
   "cell_type": "code",
   "execution_count": null,
   "metadata": {},
   "outputs": [],
   "source": []
  }
 ],
 "metadata": {
  "kernelspec": {
   "display_name": "Python 3",
   "language": "python",
   "name": "python3"
  },
  "language_info": {
   "codemirror_mode": {
    "name": "ipython",
    "version": 3
   },
   "file_extension": ".py",
   "mimetype": "text/x-python",
   "name": "python",
   "nbconvert_exporter": "python",
   "pygments_lexer": "ipython3",
   "version": "3.7.4"
  },
  "toc": {
   "base_numbering": 1,
   "nav_menu": {},
   "number_sections": true,
   "sideBar": true,
   "skip_h1_title": false,
   "title_cell": "Table of Contents",
   "title_sidebar": "Contents",
   "toc_cell": false,
   "toc_position": {},
   "toc_section_display": true,
   "toc_window_display": false
  }
 },
 "nbformat": 4,
 "nbformat_minor": 2
}
